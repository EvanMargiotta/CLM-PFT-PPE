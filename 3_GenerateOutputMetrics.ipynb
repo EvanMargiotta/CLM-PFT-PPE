{
 "cells": [
  {
   "cell_type": "markdown",
   "id": "d9208a2e-8283-4d4c-9d81-054eab0ebfcf",
   "metadata": {},
   "source": [
    "# 3) Generate the Output Metrics #"
   ]
  },
  {
   "cell_type": "markdown",
   "id": "ebd49922-3212-490d-a9a8-01690941949b",
   "metadata": {},
   "source": [
    "This notebook takes the metrics saved by notebook 1 and runs some additional post processing to generate 1 metric per grid cell per ensemble member <br>\n",
    "<br>\n",
    "Inputs: <br>\n",
    "Metrics.nc - contains select output variables used for analysis <br>\n",
    "growing_season_mask.nc - a helper dataset for masking out non growing season months\n",
    "primaryPFT.nc - a helper dataset for selecting the most abundant pft (based on cveg) in each grid cell\n",
    "\n",
    "Ouputs:\n",
    "Metrics_GC.nc\n",
    "Metrics_PFT.nc"
   ]
  },
  {
   "cell_type": "markdown",
   "id": "dd61853c-51d5-45c6-abbf-51aba0ba683b",
   "metadata": {},
   "source": [
    "## Load Libraries ##"
   ]
  },
  {
   "cell_type": "code",
   "execution_count": 56,
   "id": "7349861f-edb1-49f0-8aee-e166db760c0e",
   "metadata": {},
   "outputs": [],
   "source": [
    "import os\n",
    "import warnings\n",
    "import numpy as np\n",
    "import pandas as pd\n",
    "import xarray as xr\n",
    "from tqdm import tqdm\n",
    "\n",
    "repo_dir = os.getcwd()"
   ]
  },
  {
   "cell_type": "markdown",
   "id": "b0094ec4-74f6-437f-9ffa-0fe1a1e23ed7",
   "metadata": {},
   "source": [
    "## Load Data ##"
   ]
  },
  {
   "cell_type": "code",
   "execution_count": 19,
   "id": "2d911f3d-240a-45fa-b587-93278ddd002b",
   "metadata": {},
   "outputs": [],
   "source": [
    "Metrics = xr.open_dataset(repo_dir+'/input/Metrics.nc').drop_sel(pft = 'c3_crop')\n",
    "growing_season_mask = xr.open_dataset(repo_dir+'/utils/GrowingSeasonMask.nc').mask.drop_sel(pft = 'c3_crop')\n",
    "prim_pft=xr.open_dataset(repo_dir+'/utils/primaryPFT.nc')"
   ]
  },
  {
   "cell_type": "markdown",
   "id": "207688b9-7d02-4e92-bee1-aa9a9c4f605e",
   "metadata": {},
   "source": [
    "## Calculate Growing Season GPP, T, and Cveg ##"
   ]
  },
  {
   "cell_type": "code",
   "execution_count": 22,
   "id": "ec65b4f6-a37e-4b34-ba4f-c1af9fecec64",
   "metadata": {},
   "outputs": [],
   "source": [
    "B_growing_season = Metrics.BTRANMN.where(growing_season_mask)\n",
    "B_growing_season_annual_mean = B_growing_season.groupby(\"time.year\").mean(dim=\"time\")\n",
    "\n",
    "TOTVEGC_growing_season = Metrics.TOTVEGC.where(growing_season_mask)\n",
    "TOTVEGC_growing_season_annual_mean = TOTVEGC_growing_season.groupby(\"time.year\").mean(dim=\"time\")\n",
    "\n",
    "GPP_growing_season = Metrics.GPP.where(growing_season_mask)\n",
    "GPP_growing_season_annual_mean = GPP_growing_season.groupby(\"time.year\").mean(dim=\"time\")\n",
    "\n",
    "T_growing_season = Metrics.FCTR.where(growing_season_mask)\n",
    "T_growing_season_annual_mean = T_growing_season.groupby(\"time.year\").mean(dim=\"time\")\n",
    "\n",
    "B_growing_season_GC = (B_growing_season* TOTVEGC_growing_season).sum(dim='pft') / TOTVEGC_growing_season.sum(dim='pft')\n",
    "T_growing_season_GC = T_growing_season.sum(dim = 'pft')\n",
    "GPP_growing_season_GC = GPP_growing_season.sum(dim = 'pft')\n",
    "\n",
    "B_growing_season_annual_mean_GC = (B_growing_season_annual_mean* TOTVEGC_growing_season_annual_mean).sum(dim='pft') / TOTVEGC_growing_season_annual_mean.sum(dim='pft')\n",
    "GPP_growing_season_annual_mean_GC = GPP_growing_season_annual_mean.sum(dim = 'pft')\n",
    "T_growing_season_annual_mean_GC = T_growing_season_annual_mean.sum(dim = 'pft')"
   ]
  },
  {
   "cell_type": "markdown",
   "id": "16cec8b4-40ac-49f9-9130-84a941ef1968",
   "metadata": {},
   "source": [
    "## Calculate Drought Sensitivity ##"
   ]
  },
  {
   "cell_type": "code",
   "execution_count": 34,
   "id": "e3b7dacc-84c9-4db1-b8c8-32b520f1ef8e",
   "metadata": {},
   "outputs": [
    {
     "name": "stderr",
     "output_type": "stream",
     "text": [
      "Processing gridcells: 100%|██████████| 400/400 [00:13<00:00, 30.15it/s]\n"
     ]
    }
   ],
   "source": [
    "#PFT-level\n",
    "\n",
    "import xarray as xr\n",
    "import numpy as np\n",
    "from tqdm import tqdm  # Progress bar\n",
    "\n",
    "# Retrieve the coordinate for 'ens' (used for the fallback nan array)\n",
    "ens_coord = GPP_growing_season_annual_mean.coords['ens']\n",
    "ens_size = ens_coord.size\n",
    "\n",
    "# List to collect our individual DataArrays\n",
    "results = []\n",
    "\n",
    "# Loop through every gridcell and pft with a progress bar on gridcell\n",
    "for gi in tqdm(GPP_growing_season_annual_mean.coords['gridcell'].values, desc=\"Processing gridcells\"):\n",
    "    for pf in GPP_growing_season_annual_mean.coords['pft'].values:\n",
    "        try:\n",
    "            sub = B_growing_season_annual_mean.sel(gridcell = gi, pft = pf)\n",
    "            minB_year1 = sub.mean(dim = 'ens').idxmin(dim = 'year').values.item()\n",
    "            minB_year2 = sub.mean(dim = 'ens').drop_sel(year = minB_year1).idxmin(dim = 'year').values.item()\n",
    "            minB_year3 = sub.mean(dim = 'ens').drop_sel(year = [minB_year1, minB_year2]).idxmin(dim = 'year').values.item()\n",
    "            # Try to select the GPP slice for the given year.\n",
    "            data_slice = GPP_growing_season_annual_mean.sel(gridcell=gi, pft=pf).sel(year=[minB_year1,minB_year2,minB_year3]).mean(dim = 'year')\n",
    "        except Exception as e:\n",
    "            # If an error occurs (e.g., year not found), assign a fallback DataArray of NaNs.\n",
    "            data_slice = xr.DataArray(np.full((ens_size,), np.nan), dims=['ens'], coords={'ens': ens_coord}).rename('GPP')\n",
    "        # Expand dimensions to include gridcell and pft in the resulting DataArray.\n",
    "        data_slice = data_slice.expand_dims({'gridcell': [gi], 'pft': [pf]})\n",
    "        results.append(data_slice)\n",
    "\n",
    "# Combine the individual slices along the new 'gridcell' and 'pft' dimensions.\n",
    "minyear_GPP_all = xr.combine_by_coords(results)"
   ]
  },
  {
   "cell_type": "code",
   "execution_count": 36,
   "id": "370cc11d-a9dd-4b06-afac-f55377a903c8",
   "metadata": {},
   "outputs": [
    {
     "name": "stderr",
     "output_type": "stream",
     "text": [
      "Processing gridcells: 100%|██████████| 400/400 [00:01<00:00, 309.98it/s]\n"
     ]
    }
   ],
   "source": [
    "#Gridcell-level\n",
    "\n",
    "import xarray as xr\n",
    "import numpy as np\n",
    "\n",
    "# Retrieve the coordinate for 'ens' (used for the fallback nan array)\n",
    "ens_coord = GPP_growing_season_annual_mean_GC.coords['ens']\n",
    "ens_size = ens_coord.size\n",
    "\n",
    "# List to collect our individual DataArrays\n",
    "results = []\n",
    "\n",
    "# Loop through every gridcell and pft with a progress bar on gridcell\n",
    "for gi in tqdm(GPP_growing_season_annual_mean_GC.coords['gridcell'].values, desc=\"Processing gridcells\"):\n",
    "    try:\n",
    "        sub = B_growing_season_annual_mean_GC.sel(gridcell = gi)\n",
    "        minB_year1 = sub.mean(dim = 'ens').idxmin(dim = 'year').values.item()\n",
    "        minB_year2 = sub.mean(dim = 'ens').drop_sel(year = minB_year1).idxmin(dim = 'year').values.item()\n",
    "        minB_year3 = sub.mean(dim = 'ens').drop_sel(year = [minB_year1, minB_year2]).idxmin(dim = 'year').values.item()\n",
    "        # Try to select the GPP slice for the given year.\n",
    "        data_slice = GPP_growing_season_annual_mean_GC.sel(gridcell=gi).sel(year=[minB_year1,minB_year2,minB_year3]).mean(dim = 'year')\n",
    "    except Exception as e:\n",
    "        # If an error occurs (e.g., year not found), assign a fallback DataArray of NaNs.\n",
    "        data_slice = xr.DataArray(np.full((ens_size,), np.nan), dims=['ens'], coords={'ens': ens_coord}).rename('GPP')\n",
    "    \n",
    "    # Expand dimensions to include gridcell and pft in the resulting DataArray.\n",
    "    data_slice = data_slice.expand_dims({'gridcell': [gi]})\n",
    "    results.append(data_slice)\n",
    "\n",
    "# Combine the individual slices along the new 'gridcell' and 'pft' dimensions.\n",
    "minyear_GPP_all_GC = xr.combine_by_coords(results)\n"
   ]
  },
  {
   "cell_type": "code",
   "execution_count": 38,
   "id": "60580519-44bd-4c12-a117-64fb16aa7760",
   "metadata": {},
   "outputs": [],
   "source": [
    "DroughtSens3Years_GC = (minyear_GPP_all_GC - GPP_growing_season_annual_mean_GC.mean(dim = 'year')) / GPP_growing_season_annual_mean_GC.mean(dim = 'year')\n",
    "DroughtSens3Years = (minyear_GPP_all - GPP_growing_season_annual_mean.mean(dim = 'year')) / GPP_growing_season_annual_mean.mean(dim = 'year')"
   ]
  },
  {
   "cell_type": "code",
   "execution_count": 58,
   "id": "ad1f7216-b017-4d9e-8e0d-8c69f4fcb41e",
   "metadata": {},
   "outputs": [],
   "source": [
    "Metrics_PFT = xr.merge([GPP_growing_season.mean(dim = 'time'), B_growing_season.mean(dim = 'time').rename('B'), T_growing_season.mean(dim = 'time').rename('T'), DroughtSens3Years.rename({'GPP':'DroughtSens'})])\n",
    "Metrics_PFT = Metrics_PFT.astype('float64')\n",
    "Metrics_GC = xr.merge([GPP_growing_season_GC.mean(dim = 'time'), B_growing_season_GC.mean(dim = 'time').rename('B'), T_growing_season_GC.mean(dim = 'time').rename('T'), DroughtSens3Years_GC.rename({'GPP':'DroughtSens'})])\n",
    "Metrics_GC = Metrics_GC.astype('float64')"
   ]
  },
  {
   "cell_type": "code",
   "execution_count": null,
   "id": "112d84d7-fd82-4ecb-b14a-9ccd86d5f11f",
   "metadata": {},
   "outputs": [],
   "source": []
  },
  {
   "cell_type": "code",
   "execution_count": 61,
   "id": "167d1a04-3eec-4c33-bd58-131b82f75ad1",
   "metadata": {},
   "outputs": [],
   "source": [
    "Metrics_PFT.to_netcdf(repo_dir+'/input/Metrics_PFT.nc')\n",
    "Metrics_GC.to_netcdf(repo_dir+'/input/Metrics_GC.nc')"
   ]
  }
 ],
 "metadata": {
  "kernelspec": {
   "display_name": "Python [conda env:AridityEnv]",
   "language": "python",
   "name": "conda-env-AridityEnv-py"
  },
  "language_info": {
   "codemirror_mode": {
    "name": "ipython",
    "version": 3
   },
   "file_extension": ".py",
   "mimetype": "text/x-python",
   "name": "python",
   "nbconvert_exporter": "python",
   "pygments_lexer": "ipython3",
   "version": "3.11.6"
  }
 },
 "nbformat": 4,
 "nbformat_minor": 5
}
